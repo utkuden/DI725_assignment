{
  "nbformat": 4,
  "nbformat_minor": 0,
  "metadata": {
    "colab": {
      "provenance": [],
      "authorship_tag": "ABX9TyM9gfHxQYjRriBCMNs3ARrF",
      "include_colab_link": true
    },
    "kernelspec": {
      "name": "python3",
      "display_name": "Python 3"
    },
    "language_info": {
      "name": "python"
    }
  },
  "cells": [
    {
      "cell_type": "markdown",
      "metadata": {
        "id": "view-in-github",
        "colab_type": "text"
      },
      "source": [
        "<a href=\"https://colab.research.google.com/github/utkuden/DI725_assignment/blob/main/Assignment_1.ipynb\" target=\"_parent\"><img src=\"https://colab.research.google.com/assets/colab-badge.svg\" alt=\"Open In Colab\"/></a>"
      ]
    },
    {
      "cell_type": "markdown",
      "source": [
        "# Git Setup"
      ],
      "metadata": {
        "id": "7X6jP4H2elhW"
      }
    },
    {
      "cell_type": "code",
      "source": [],
      "metadata": {
        "id": "coybA521WxoM"
      },
      "execution_count": 27,
      "outputs": []
    },
    {
      "cell_type": "code",
      "source": [
        "!git clone https://{token}@github.com/\"utkuden\"/\"DI725_assignment\""
      ],
      "metadata": {
        "colab": {
          "base_uri": "https://localhost:8080/"
        },
        "id": "4YHxTnwvafZD",
        "outputId": "d851cc7b-4482-4b0d-feb5-ef4544297610"
      },
      "execution_count": null,
      "outputs": [
        {
          "output_type": "stream",
          "name": "stdout",
          "text": [
            "Cloning into 'DI725_assignment'...\n",
            "remote: Enumerating objects: 279, done.\u001b[K\n",
            "remote: Counting objects: 100% (279/279), done.\u001b[K\n",
            "remote: Compressing objects: 100% (163/163), done.\u001b[K\n",
            "remote: Total 279 (delta 109), reused 274 (delta 107), pack-reused 0 (from 0)\u001b[K\n",
            "Receiving objects: 100% (279/279), 4.43 MiB | 14.89 MiB/s, done.\n",
            "Resolving deltas: 100% (109/109), done.\n"
          ]
        }
      ]
    },
    {
      "cell_type": "code",
      "source": [
        "cd DI725_assignment/"
      ],
      "metadata": {
        "colab": {
          "base_uri": "https://localhost:8080/"
        },
        "id": "oW_7dshRafW0",
        "outputId": "b1e1d6b6-be84-4426-9c00-1a97a7fa923d"
      },
      "execution_count": null,
      "outputs": [
        {
          "output_type": "stream",
          "name": "stdout",
          "text": [
            "/content/DI725_assignment\n"
          ]
        }
      ]
    },
    {
      "cell_type": "code",
      "source": [
        "!git status"
      ],
      "metadata": {
        "id": "ZyjZRTN4afUI"
      },
      "execution_count": null,
      "outputs": []
    },
    {
      "cell_type": "code",
      "source": [
        "!git add .\n",
        "!git commit -m \"clean up\""
      ],
      "metadata": {
        "id": "zKu56L6YcNPk"
      },
      "execution_count": null,
      "outputs": []
    },
    {
      "cell_type": "code",
      "source": [
        "!git push -u origin main"
      ],
      "metadata": {
        "id": "0WRAh8ITafRX",
        "colab": {
          "base_uri": "https://localhost:8080/"
        },
        "outputId": "24b03971-1965-4fa1-e60e-e223ad800df7"
      },
      "execution_count": null,
      "outputs": [
        {
          "output_type": "stream",
          "name": "stdout",
          "text": [
            "Enumerating objects: 3, done.\n",
            "Counting objects:  33% (1/3)\rCounting objects:  66% (2/3)\rCounting objects: 100% (3/3)\rCounting objects: 100% (3/3), done.\n",
            "Delta compression using up to 2 threads\n",
            "Compressing objects: 100% (1/1)\rCompressing objects: 100% (1/1), done.\n",
            "Writing objects:  50% (1/2)\rWriting objects: 100% (2/2)\rWriting objects: 100% (2/2), 232 bytes | 232.00 KiB/s, done.\n",
            "Total 2 (delta 0), reused 0 (delta 0), pack-reused 0\n",
            "To https://github.com/utkuden/DI725_assignment\n",
            "   2408828..be2fc38  main -> main\n",
            "Branch 'main' set up to track remote branch 'main' from 'origin'.\n"
          ]
        }
      ]
    },
    {
      "cell_type": "markdown",
      "source": [
        "# EDA"
      ],
      "metadata": {
        "id": "vZtLgTCAeyhV"
      }
    },
    {
      "cell_type": "code",
      "source": [
        "import pandas as pd\n",
        "train = pd.read_csv('data/customer_service/train.csv')\n",
        "test = pd.read_csv('data/customer_service/test.csv')"
      ],
      "metadata": {
        "id": "aoq01Ni6cXa3"
      },
      "execution_count": 22,
      "outputs": []
    },
    {
      "cell_type": "code",
      "source": [
        "print(train['conversation'].iloc[0])"
      ],
      "metadata": {
        "colab": {
          "base_uri": "https://localhost:8080/"
        },
        "id": "pFkD7Mppfoek",
        "outputId": "73ce62c6-7f67-446b-a69d-ee69308a04f5"
      },
      "execution_count": 26,
      "outputs": [
        {
          "output_type": "stream",
          "name": "stdout",
          "text": [
            "Agent: Thank you for calling BrownBox Customer Support. My name is Tom. How may I assist you today?\n",
            "\n",
            "Customer: Hi Tom, I'm trying to log in to my account to purchase an Oven Toaster Grill (OTG), but I'm unable to proceed as it's asking for mobile number or email verification. Can you help me with that?\n",
            "\n",
            "Agent: Sure, I can assist you with that. May I know your registered mobile number or email address, please?\n",
            "\n",
            "Customer: My registered mobile number is +1 123-456-7890.\n",
            "\n",
            "Agent: Thank you. Let me check that for you. I'm sorry to inform you that we don't have this number on our records. Can you please confirm if this is the correct number?\n",
            "\n",
            "Customer: Oh, I'm sorry. I might have registered with a different number. Can you please check with my email address instead? It's johndoe@email.com.\n",
            "\n",
            "Agent: Sure, let me check that for you. (After a few moments) I see that we have your email address on our records. We'll be sending you a verification code shortly. Please check your email and let me know once you receive it.\n",
            "\n",
            "Customer: Okay, I received the code. What do I do with it?\n",
            "\n",
            "Agent: Please enter the verification code in the field provided and click on 'Verify'. Once your email address is verified, you'll be able to proceed with your purchase.\n",
            "\n",
            "Customer: Okay, I entered the code, and it's verified now. Thank you for your help.\n",
            "\n",
            "Agent: You're welcome. Is there anything else I can assist you with?\n",
            "\n",
            "Customer: No, that's all. Thank you.\n",
            "\n",
            "Agent: You're welcome. Have a great day!\n"
          ]
        }
      ]
    },
    {
      "cell_type": "code",
      "source": [],
      "metadata": {
        "id": "_NCTK52SfoWP"
      },
      "execution_count": null,
      "outputs": []
    },
    {
      "cell_type": "code",
      "source": [],
      "metadata": {
        "id": "QFTsd8BLfI0w"
      },
      "execution_count": null,
      "outputs": []
    },
    {
      "cell_type": "code",
      "source": [],
      "metadata": {
        "id": "5pUSpQ1bfIyI"
      },
      "execution_count": null,
      "outputs": []
    },
    {
      "cell_type": "code",
      "source": [],
      "metadata": {
        "id": "OCL29_sEXAOD"
      },
      "execution_count": null,
      "outputs": []
    }
  ]
}